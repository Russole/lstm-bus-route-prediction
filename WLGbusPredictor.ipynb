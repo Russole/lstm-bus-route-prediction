{
 "cells": [
  {
   "cell_type": "code",
   "execution_count": 1,
   "metadata": {},
   "outputs": [
    {
     "name": "stderr",
     "output_type": "stream",
     "text": [
      "Using TensorFlow backend.\n"
     ]
    }
   ],
   "source": [
    "from keras.layers.core import Dense, Activation, Dropout\n",
    "from keras.layers.recurrent import LSTM\n",
    "from keras.models import Sequential\n",
    "import lstm, time #helper libraries\n",
    "from pylab import *"
   ]
  },
  {
   "cell_type": "code",
   "execution_count": 2,
   "metadata": {},
   "outputs": [
    {
     "name": "stdout",
     "output_type": "stream",
     "text": [
      "705\n",
      "[[[  0.        ]\n",
      "  [ -0.26086957]\n",
      "  [  0.34782609]\n",
      "  ..., \n",
      "  [  0.69565217]\n",
      "  [  0.26086957]\n",
      "  [  0.08695652]]\n",
      "\n",
      " [[  0.        ]\n",
      "  [  0.82352941]\n",
      "  [  0.47058824]\n",
      "  ..., \n",
      "  [  0.70588235]\n",
      "  [  0.47058824]\n",
      "  [  0.35294118]]\n",
      "\n",
      " [[  0.        ]\n",
      "  [ -0.19354839]\n",
      "  [ -0.12903226]\n",
      "  ..., \n",
      "  [ -0.19354839]\n",
      "  [ -0.25806452]\n",
      "  [ -0.38709677]]\n",
      "\n",
      " ..., \n",
      " [[  0.        ]\n",
      "  [  0.        ]\n",
      "  [ -0.8       ]\n",
      "  ..., \n",
      "  [  1.73333333]\n",
      "  [  1.6       ]\n",
      "  [  1.33333333]]\n",
      "\n",
      " [[  0.        ]\n",
      "  [ -0.8       ]\n",
      "  [ -0.93333333]\n",
      "  ..., \n",
      "  [  1.6       ]\n",
      "  [  1.33333333]\n",
      "  [  1.46666667]]\n",
      "\n",
      " [[  0.        ]\n",
      "  [ -0.66666667]\n",
      "  [ -0.66666667]\n",
      "  ..., \n",
      "  [ 10.66666667]\n",
      "  [ 11.33333333]\n",
      "  [ 14.66666667]]]\n",
      "635\n",
      "70\n"
     ]
    }
   ],
   "source": [
    "#Step 1 Load Data\n",
    "X_train, y_train, X_test, y_test = lstm.load_data('bearings.csv', 50, True)\n",
    "\n",
    "print(X_test)\n",
    "print(len(X_train))\n",
    "print(len(y_test))\n",
    "axis = range(1,len(y_test)+1)"
   ]
  },
  {
   "cell_type": "code",
   "execution_count": 3,
   "metadata": {},
   "outputs": [
    {
     "name": "stdout",
     "output_type": "stream",
     "text": [
      "('compilation time : ', 0.03196382522583008)\n"
     ]
    }
   ],
   "source": [
    "#Step 2 Build Model\n",
    "model = Sequential()\n",
    "\n",
    "model.add(LSTM(\n",
    "    input_dim=1,\n",
    "    output_dim=50,\n",
    "    return_sequences=True))\n",
    "model.add(Dropout(0.2))\n",
    "\n",
    "model.add(LSTM(\n",
    "    100,\n",
    "    return_sequences=False))\n",
    "model.add(Dropout(0.2))\n",
    "\n",
    "model.add(Dense(\n",
    "    output_dim=1))\n",
    "model.add(Activation('linear'))\n",
    "\n",
    "start = time.time()\n",
    "model.compile(loss='mse', optimizer='rmsprop')\n",
    "print('compilation time : ', time.time() - start)"
   ]
  },
  {
   "cell_type": "code",
   "execution_count": 4,
   "metadata": {},
   "outputs": [
    {
     "name": "stdout",
     "output_type": "stream",
     "text": [
      "Train on 603 samples, validate on 32 samples\n",
      "Epoch 1/1\n",
      "603/603 [==============================] - 5s 8ms/step - loss: 31.6885 - val_loss: 49.8699\n"
     ]
    },
    {
     "data": {
      "text/plain": [
       "<keras.callbacks.History at 0x1133a5d10>"
      ]
     },
     "execution_count": 4,
     "metadata": {},
     "output_type": "execute_result"
    }
   ],
   "source": [
    "#Step 3 Train the model\n",
    "model.fit(\n",
    "    X_train,\n",
    "    y_train,\n",
    "    batch_size=50,\n",
    "    nb_epoch=1,\n",
    "    validation_split=0.05)"
   ]
  },
  {
   "cell_type": "code",
   "execution_count": 5,
   "metadata": {
    "collapsed": true
   },
   "outputs": [],
   "source": [
    "#Step 4 - Plot the predictions!\n",
    "# predictions = lstm.predict_sequences_multiple(model, X_test, 50, 61)\n",
    "preds3 = lstm.predict_sequence_full(model, X_test, 50)\n",
    "preds = lstm.predict_point_by_point(model, X_test)\n",
    "# preds2 = lstm.predict_sequences_multiple(model, X_test, 20, 20)\n",
    "preds = 10*preds\n",
    "# predictions = np.asarray(predictions, dtype=np.float32)\n",
    "preds3 = np.asarray(preds3, dtype=np.float32)\n",
    "# predictions = 10 * (predictions[0])\n",
    "# preds3 = 10*preds3\n",
    "# lstm.plot_results_multiple(preds, y_test, 5)\n",
    "# lstm.plot_results_multiple(predictions, y_test, 50)"
   ]
  },
  {
   "cell_type": "code",
   "execution_count": 6,
   "metadata": {},
   "outputs": [
    {
     "data": {
      "image/png": "[encoded data removed]",
      "text/plain": [
       "<matplotlib.figure.Figure at 0x10ff87750>"
      ]
     },
     "metadata": {},
     "output_type": "display_data"
    }
   ],
   "source": [
    "# plot(axis,preds3)\n",
    "plot(axis,preds)\n",
    "# print(preds3)\n",
    "plot(axis,y_test)\n",
    "show()"
   ]
  },
  {
   "cell_type": "code",
   "execution_count": null,
   "metadata": {
    "collapsed": true
   },
   "outputs": [],
   "source": []
  },
  {
   "cell_type": "code",
   "execution_count": null,
   "metadata": {
    "collapsed": true
   },
   "outputs": [],
   "source": []
  }
 ],
 "metadata": {
  "kernelspec": {
   "display_name": "Python 2",
   "language": "python",
   "name": "python2"
  },
  "language_info": {
   "codemirror_mode": {
    "name": "ipython",
    "version": 2
   },
   "file_extension": ".py",
   "mimetype": "text/x-python",
   "name": "python",
   "nbconvert_exporter": "python",
   "pygments_lexer": "ipython2",
   "version": "2.7.13"
  }
 },
 "nbformat": 4,
 "nbformat_minor": 2
}
